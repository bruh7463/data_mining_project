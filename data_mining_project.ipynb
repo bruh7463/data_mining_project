{
  "nbformat": 4,
  "nbformat_minor": 0,
  "metadata": {
    "colab": {
      "provenance": [],
      "toc_visible": true
    },
    "kernelspec": {
      "name": "python3",
      "display_name": "Python 3"
    },
    "language_info": {
      "name": "python"
    }
  },
  "cells": [
    {
      "cell_type": "markdown",
      "source": [
        "<center>\n",
        "  <font size=6><b>CSC 4792: Data Mining and Warehousing</b></font><br />\n",
        "  <font size=3>Group Project: Classify country of origin for Wikipedia user contributions on Zambian Wikipedia pages</font>\n",
        "\n",
        "   <b>Group Members</b> </br>\n",
        "   Simon Chanda </br>\n",
        "   Lawrence Chitandula </br>\n",
        "   Chilufya Chulu </br>\n",
        "   Kasweka Michael Mukoko </br>\n",
        "   Mike Shatamuka </br>\n",
        "</center>"
      ],
      "metadata": {
        "id": "EZ7c8-oVzbfQ"
      }
    },
    {
      "cell_type": "markdown",
      "source": [
        "\n",
        "# **1. Business Understanding**\n",
        "### Problem Statement\n",
        "Wikipedia pages related to Zambia have fewer local contributions than international ones. There is little understanding of where the contributors of Zambian-related pages come from, including the Zambia page. Without this information, it is difficult to create specific strategies that boost contributions from Zambian Wikipedians. The goal is to find out and categorize the origins of Wikipedia users who contribute to Zambian pages. This will help in planning actions that promote more local involvement.\n",
        "\n",
        "### Business Objectives\n",
        "- Identify the percentage of contributions to Zambian Wikipedia articles by users from Zambia compared to other nations.\n",
        "- Provide practical advice to guide strategies for Zambian-based contributions.\n",
        "- Support The University of Zambia's DataLab Research Group in advocating for greater representation of local perspectives on Wikipedia.\n",
        "- Enable long-term monitoring of contribution by country of origin.\n",
        "\n",
        "### What Success Looks Like In Practice\n",
        "- An unambiguous evidence based report on the contributions by country.\n",
        "- It was possible to identify trends of where most of edits are made.\n",
        "- Lessons that could be shared with Wikimedia communities and policymakers incase of encouraging locals to contribute.\n",
        "\n",
        "### Data Mining Goals\n",
        "- Create a prediction model that can determine the most likely country of origin for each Wikipedia edit made to Zambian pages, using details like the user’s IP address (for anonymous edits), profile information, and the timing of edits.\n",
        "\n",
        "- Analyze and visualize the data to show clear summaries of how contributions are distributed by country.\n",
        "\n",
        "- Spot unusual trends or activity, such as sudden increases in edits coming from a specific country.\n",
        "\n",
        "### Initial Project Success Criteria\n",
        "\n",
        "- Produce a clear and accurate breakdown of Wikipedia contributions to Zambian pages by country of origin.\n",
        "- Achieve at least 80% accuracy in classifying the country of origin for contributions.\n",
        "- Visualize contribution patterns and trends over time through interpretable dashboards or charts.\n",
        "- Provide actionable insights that can guide strategies to increase local Zambian participation.\n",
        "\n"
      ],
      "metadata": {
        "id": "rqhaLL_N32Ol"
      }
    },
    {
      "cell_type": "markdown",
      "source": [
        "# **2. Data Understanding**"
      ],
      "metadata": {
        "id": "mFgTqR3DEmEp"
      }
    }
  ]
}